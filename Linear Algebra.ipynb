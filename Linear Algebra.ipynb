{
 "cells": [
  {
   "cell_type": "markdown",
   "id": "fa1572f9",
   "metadata": {},
   "source": [
    "# Linear Algebra Assignment"
   ]
  },
  {
   "cell_type": "markdown",
   "id": "412795ce",
   "metadata": {},
   "source": [
    "# [1] Checking various properties (such as symmetry, idempotency, singularity,orthogonality, definiteness etc) of the given matrix\n"
   ]
  },
  {
   "cell_type": "code",
   "execution_count": 1,
   "id": "7276d30d",
   "metadata": {},
   "outputs": [],
   "source": [
    "import numpy as np"
   ]
  },
  {
   "cell_type": "code",
   "execution_count": 16,
   "id": "c7130a20",
   "metadata": {},
   "outputs": [
    {
     "name": "stdout",
     "output_type": "stream",
     "text": [
      "[[1 4 4]\n",
      " [6 2 6]\n",
      " [1 6 6]]\n"
     ]
    }
   ],
   "source": [
    "A=np.random.randint(1,8,(3,3))\n",
    "print(A)"
   ]
  },
  {
   "cell_type": "code",
   "execution_count": 17,
   "id": "b34361ee",
   "metadata": {},
   "outputs": [
    {
     "name": "stdout",
     "output_type": "stream",
     "text": [
      "The given Matrix is \n",
      " [[1 4 4]\n",
      " [6 2 6]\n",
      " [1 6 6]]\n",
      "The Determinant Of the Matrix is -8\n",
      "The Rank of the Matrix is:  3\n",
      "The given Matrix is Square Matrix\n",
      "The given Matrix is Not Symmetric Matrix\n",
      "The given Matrix is Not Singular Matrix\n",
      "The given Matrix is Not Orthogonal Matrix\n",
      "The given Matrix is Not Idempotent Matrix\n"
     ]
    }
   ],
   "source": [
    "def Properties(A):\n",
    "    row,col=A.shape\n",
    "    print(\"The given Matrix is \\n\",A)\n",
    "    print(\"The Determinant Of the Matrix is\",round(np.linalg.det(A)))\n",
    "    print(\"The Rank of the Matrix is: \",np.linalg.matrix_rank(A ))\n",
    "    if row==col:\n",
    "        print(\"The given Matrix is Square Matrix\")\n",
    "    else:\n",
    "        print(\"The given Matrix is Not Square Matrix\")\n",
    "    \n",
    "    if (A.T==A).all():\n",
    "        print(\"The given Matrix is Symmetric Matrix\")\n",
    "    else:\n",
    "        print(\"The given Matrix is Not Symmetric Matrix\")\n",
    "    if (np.linalg.det(A)!=0).all():\n",
    "        print(\"The given Matrix is Not Singular Matrix\")\n",
    "    else:\n",
    "        print(\"The given Matrix is Non Singular Matrix\")\n",
    "    if (np.linalg.inv(A)==A.T).all():\n",
    "        print(\"The given Matrix is Orthogonal Matrix\")\n",
    "    else:\n",
    "        print(\"The given Matrix is Not Orthogonal Matrix\")\n",
    "    if (A@A==A).all():\n",
    "        print(\"The given Matrix is Idempotent Matrix\")\n",
    "    else:\n",
    "        print(\"The given Matrix is Not Idempotent Matrix\")\n",
    "        "
   ]
  },
  {
   "cell_type": "markdown",
   "id": "d8127d75",
   "metadata": {},
   "source": [
    "   # 2] Cramer's Rule\n"
   ]
  },
  {
   "cell_type": "markdown",
   "id": "f2fea376",
   "metadata": {},
   "source": [
    "# 1. Solve the following systems of linear equations using Cramer’s rule.\n",
    "(a) 2x1 − x2 + x3 = −3,x1 + x2 −3x3 = 17, 5x1 −2x2 −4x3 = 20\n",
    "\n",
    "(b) 2x1 +3x2 − x3 = 4,x1 +4x2 + x3 = −1, 5x1 − x2 +2x3 = 1\n",
    "\n",
    "(c) −x1 +2x2 +4x3 −2x4 +3x5 = 24, 20x1 +5x2 +3x3 −2x4 − x5 = 29,2x1 +18x2 +60x3 +5x4 −3x5 = 177, 2x1 +4x2 +4x3 +3x5 = 26\n",
    "\n",
    "(d) 2x1 +3x2 − x3 = 4, x1 +4x2 + x3 = −1, 5x1 − x2 +2x3 = 1, 2x1 +3x2−6x3 +5x4 +4x5 = 0"
   ]
  },
  {
   "cell_type": "code",
   "execution_count": 8,
   "id": "5aea8511",
   "metadata": {},
   "outputs": [],
   "source": [
    "import numpy as np"
   ]
  },
  {
   "cell_type": "code",
   "execution_count": 10,
   "id": "5a4f83ef",
   "metadata": {},
   "outputs": [],
   "source": [
    "def Cramer(A,b):\n",
    "    import numpy as np\n",
    "    d=np.linalg.det(A)\n",
    "    if(d!=0):\n",
    "        row,col=A.shape\n",
    "        x=[]\n",
    "        for i in range(col):  \n",
    "            C=A.copy()\n",
    "            C[:,i]=b\n",
    "            v=np.linalg.det(C)/np.linalg.det(A)\n",
    "            x.append(round(v))\n",
    "        print(\"The solution of the S.O.E. is:\")\n",
    "        print(x)\n",
    "    else:\n",
    "        print(\"The System has no solution\")"
   ]
  },
  {
   "cell_type": "code",
   "execution_count": 11,
   "id": "9910499c",
   "metadata": {},
   "outputs": [
    {
     "name": "stdout",
     "output_type": "stream",
     "text": [
      "The solution of the S.O.E. is:\n",
      "[2, 3, -4]\n"
     ]
    }
   ],
   "source": [
    "\n",
    "A=np.matrix(\"2,-1,1;1,1,-3;5,-2,-4\")\n",
    "b=np.matrix(\"-3,17,20\").transpose()\n",
    "Cramer(A,b)"
   ]
  },
  {
   "cell_type": "code",
   "execution_count": 12,
   "id": "7a231e82",
   "metadata": {},
   "outputs": [
    {
     "name": "stdout",
     "output_type": "stream",
     "text": [
      "The solution of the S.O.E. is:\n",
      "[1, 0, -2]\n"
     ]
    }
   ],
   "source": [
    "A=np.matrix(\"2,3,-1;1,4,1;5,-1,2\")\n",
    "b=np.matrix(\"4,-1,1\").transpose()\n",
    "Cramer(A,b)"
   ]
  },
  {
   "cell_type": "code",
   "execution_count": 13,
   "id": "0d02d412",
   "metadata": {},
   "outputs": [
    {
     "name": "stdout",
     "output_type": "stream",
     "text": [
      "The solution of the S.O.E. is:\n",
      "[2, -3, 4, 1, 6]\n"
     ]
    }
   ],
   "source": [
    "A=np.matrix(\"-1,2,4,-2,3;20,5,3,-2,-1;2,18,60,5,-3;2,4,4,0,3;2,3,-6,5,4\")\n",
    "b=np.matrix(\"24,29,177,26,0\").transpose()\n",
    "Cramer(A,b)"
   ]
  },
  {
   "cell_type": "markdown",
   "id": "40593362",
   "metadata": {},
   "source": [
    "#  3] g-Inverse of the Non Full Rank Matrix"
   ]
  },
  {
   "cell_type": "code",
   "execution_count": 19,
   "id": "05104852",
   "metadata": {},
   "outputs": [],
   "source": [
    "import numpy as np\n"
   ]
  },
  {
   "cell_type": "code",
   "execution_count": 20,
   "id": "d4f5a1ea",
   "metadata": {},
   "outputs": [
    {
     "name": "stdout",
     "output_type": "stream",
     "text": [
      "[[1 2 3]\n",
      " [4 5 6]\n",
      " [7 8 9]]\n"
     ]
    }
   ],
   "source": [
    "A=np.array([[1,2,3],[4,5,6],[7,8,9]])\n",
    "print(A)"
   ]
  },
  {
   "cell_type": "code",
   "execution_count": 26,
   "id": "905e7d56",
   "metadata": {},
   "outputs": [],
   "source": [
    "A=np.matrix(\"1,2,3;4,5,6;7,8,9\")"
   ]
  },
  {
   "cell_type": "code",
   "execution_count": 27,
   "id": "034c8b53",
   "metadata": {},
   "outputs": [
    {
     "name": "stdout",
     "output_type": "stream",
     "text": [
      "Rank of the matrix is:  2\n",
      "The g-Inverse of the Matrix is:\n",
      " [[-1.  0.  0.]\n",
      " [ 0.  0.  0.]\n",
      " [ 1.  0. -0.]]\n"
     ]
    }
   ],
   "source": [
    "r=np.linalg.matrix_rank(A)\n",
    "print(\"Rank of the matrix is: \",r)\n",
    "m,n=A.shape\n",
    "G=np.zeros((m,n))\n",
    "B=A[np.ix_([0,r],[0,r])]\n",
    "r1=np.linalg.matrix_rank(B)\n",
    "if(r==r1):\n",
    "    G[np.ix_([0,r],[0,r])]=np.linalg.inv(B).T\n",
    "    G=G.T\n",
    "print(\"The g-Inverse of the Matrix is:\\n\" ,np.round(G))"
   ]
  },
  {
   "cell_type": "code",
   "execution_count": 28,
   "id": "e78da6d2",
   "metadata": {},
   "outputs": [
    {
     "name": "stdout",
     "output_type": "stream",
     "text": [
      "Property not Satisfied\n"
     ]
    }
   ],
   "source": [
    "#Verify the properties\n",
    "#trace(AG)=trace(GA)=rank(A)\n",
    "if np.trace(A@G)==round(np.trace(G@A))==np.linalg.matrix_rank(A):\n",
    "    print(\"Property Satisfied\")\n",
    "else:\n",
    "    print(\"Property not Satisfied\")"
   ]
  },
  {
   "cell_type": "markdown",
   "id": "b15e3a92",
   "metadata": {},
   "source": [
    "# 4]  Solution Of Systems Of Linear Equations"
   ]
  },
  {
   "cell_type": "code",
   "execution_count": 75,
   "id": "bccc340d",
   "metadata": {},
   "outputs": [],
   "source": [
    "import numpy as np"
   ]
  },
  {
   "cell_type": "code",
   "execution_count": 70,
   "id": "298d4b5f",
   "metadata": {},
   "outputs": [
    {
     "name": "stdout",
     "output_type": "stream",
     "text": [
      "0\n",
      "48\n"
     ]
    }
   ],
   "source": [
    "A=np.matrix(\"2,3,-1;1,4,1;5,-1,2\")\n",
    "A1=np.matrix(\"1,2,3;4,5,6;7,8,9\")\n",
    "b=np.matrix(\"4,-1,1\").transpose()\n",
    "print(round(np.linalg.det(A1)))\n",
    "print(round(np.linalg.det(A)))"
   ]
  },
  {
   "cell_type": "code",
   "execution_count": 77,
   "id": "b99eab93",
   "metadata": {},
   "outputs": [],
   "source": [
    "def SLE(A,b):\n",
    "    if round(np.linalg.det(A))==0:\n",
    "        r=np.linalg.matrix_rank(A)\n",
    "        print(\"Rank of the matrix is: \",r)\n",
    "        m,n=A.shape\n",
    "        G=np.zeros((m,n))\n",
    "        B=A[np.ix_([0,r],[0,r])]\n",
    "        r1=np.linalg.matrix_rank(B)\n",
    "        if(r==r1):\n",
    "            G[np.ix_([0,r],[0,r])]=np.linalg.inv(B).T\n",
    "            G=G.T\n",
    "        print(\"The g-Inverse of the Matrix is:\\n\" ,G)\n",
    "        print(\"\\nThe System has Infinite solutions\")\n",
    "        z1=np.random.rand(n,1)*10\n",
    "        z2=np.random.rand(n,1)*10\n",
    "        I=np.eye(n)\n",
    "        print(\"first solution of SLE:\\n\",np.round(G*b+(I-G*A)*z1))\n",
    "        print(\"Second solution of SLE:\\n\",np.round(G*b+(I-G*A)*z2))\n",
    "    else:\n",
    "        Inv=np.linalg.inv(A)\n",
    "        #AX=b\n",
    "        #X=inv(A)*b\n",
    "        s=np.linalg.inv(A)*b\n",
    "        print(\"The unique solution of  SLE is\\n:\",np.round(s))\n",
    "        "
   ]
  },
  {
   "cell_type": "code",
   "execution_count": 78,
   "id": "187a2496",
   "metadata": {},
   "outputs": [
    {
     "name": "stdout",
     "output_type": "stream",
     "text": [
      "The unique solution of  SLE is\n",
      ": [[ 1.]\n",
      " [ 0.]\n",
      " [-2.]]\n"
     ]
    }
   ],
   "source": [
    "SLE(A,b)"
   ]
  },
  {
   "cell_type": "code",
   "execution_count": 79,
   "id": "41d0ed33",
   "metadata": {},
   "outputs": [
    {
     "name": "stdout",
     "output_type": "stream",
     "text": [
      "Rank of the matrix is:  2\n",
      "The g-Inverse of the Matrix is:\n",
      " [[-0.75        0.          0.25      ]\n",
      " [ 0.          0.          0.        ]\n",
      " [ 0.58333333  0.         -0.08333333]]\n",
      "\n",
      "The System has Infinite solutions\n",
      "first solution of SLE:\n",
      " [[-5.]\n",
      " [ 5.]\n",
      " [-0.]]\n",
      "Second solution of SLE:\n",
      " [[-4.]\n",
      " [ 2.]\n",
      " [ 1.]]\n"
     ]
    }
   ],
   "source": [
    "SLE(A1,b)\n"
   ]
  },
  {
   "cell_type": "markdown",
   "id": "fce8f4f5",
   "metadata": {},
   "source": [
    "# 5] Using Spectral Decomposition Find the Power of the matrix"
   ]
  },
  {
   "cell_type": "code",
   "execution_count": 59,
   "id": "8be416bc",
   "metadata": {},
   "outputs": [],
   "source": [
    "import numpy as np"
   ]
  },
  {
   "cell_type": "code",
   "execution_count": 60,
   "id": "2d2e6399",
   "metadata": {},
   "outputs": [],
   "source": [
    "A=np.array([[4,1,3,1],[1,4,1,3],[3,1,4,1],[1,3,1,4]])"
   ]
  },
  {
   "cell_type": "code",
   "execution_count": 61,
   "id": "da684e9e",
   "metadata": {},
   "outputs": [],
   "source": [
    "P,L=np.linalg.eig(A)"
   ]
  },
  {
   "cell_type": "code",
   "execution_count": 62,
   "id": "bdb09540",
   "metadata": {},
   "outputs": [
    {
     "name": "stdout",
     "output_type": "stream",
     "text": [
      "[[9. 0. 0. 0.]\n",
      " [0. 1. 0. 0.]\n",
      " [0. 0. 5. 0.]\n",
      " [0. 0. 0. 1.]]\n"
     ]
    }
   ],
   "source": [
    "E=np.diagflat(np.linalg.eigvals(A))\n",
    "print(E)"
   ]
  },
  {
   "cell_type": "code",
   "execution_count": 63,
   "id": "aedab12f",
   "metadata": {},
   "outputs": [],
   "source": [
    "def SDT_Power(A,c):\n",
    "    import numpy as np\n",
    "    P,L=np.linalg.eig(A)\n",
    "    E=np.diag(list(np.linalg.eigvals(A)))\n",
    "    return np.round(L@E**c@L.T)"
   ]
  },
  {
   "cell_type": "code",
   "execution_count": 64,
   "id": "39a4f047",
   "metadata": {},
   "outputs": [
    {
     "data": {
      "text/plain": [
       "array([[27., 14., 26., 14.],\n",
       "       [14., 27., 14., 26.],\n",
       "       [26., 14., 27., 14.],\n",
       "       [14., 26., 14., 27.]])"
      ]
     },
     "execution_count": 64,
     "metadata": {},
     "output_type": "execute_result"
    }
   ],
   "source": [
    "SDT_Power(A,2) #A^2"
   ]
  },
  {
   "cell_type": "code",
   "execution_count": 65,
   "id": "fdde41dc",
   "metadata": {},
   "outputs": [
    {
     "data": {
      "text/plain": [
       "array([[1215274., 1176211., 1215273., 1176211.],\n",
       "       [1176211., 1215274., 1176211., 1215273.],\n",
       "       [1215273., 1176211., 1215274., 1176211.],\n",
       "       [1176211., 1215273., 1176211., 1215274.]])"
      ]
     },
     "execution_count": 65,
     "metadata": {},
     "output_type": "execute_result"
    }
   ],
   "source": [
    "SDT_Power(A,7) #A^7"
   ]
  },
  {
   "cell_type": "code",
   "execution_count": 66,
   "id": "f6d44202",
   "metadata": {},
   "outputs": [
    {
     "data": {
      "text/plain": [
       "array([[2., 0., 1., 0.],\n",
       "       [0., 2., 0., 1.],\n",
       "       [1., 0., 2., 0.],\n",
       "       [0., 1., 0., 2.]])"
      ]
     },
     "execution_count": 66,
     "metadata": {},
     "output_type": "execute_result"
    }
   ],
   "source": [
    "SDT_Power(A,1/2) #A^0.5"
   ]
  },
  {
   "cell_type": "code",
   "execution_count": 67,
   "id": "cc04dbf1",
   "metadata": {},
   "outputs": [
    {
     "data": {
      "text/plain": [
       "array([[10.,  4.,  9.,  4.],\n",
       "       [ 4., 10.,  4.,  9.],\n",
       "       [ 9.,  4., 10.,  4.],\n",
       "       [ 4.,  9.,  4., 10.]])"
      ]
     },
     "execution_count": 67,
     "metadata": {},
     "output_type": "execute_result"
    }
   ],
   "source": [
    "SDT_Power(A,3/2) #A^1.5"
   ]
  },
  {
   "cell_type": "markdown",
   "id": "98aa48f2",
   "metadata": {},
   "source": [
    "# 6] GSO(Gram_Smith_Orthogonalization)"
   ]
  },
  {
   "cell_type": "code",
   "execution_count": 11,
   "id": "dc7d0a21",
   "metadata": {},
   "outputs": [],
   "source": [
    "import numpy as np"
   ]
  },
  {
   "cell_type": "code",
   "execution_count": 12,
   "id": "ecbeb4d7",
   "metadata": {},
   "outputs": [],
   "source": [
    "x1=np.array([3,1,-1,3])\n",
    "x2=np.array([-5,1,5,-7])\n",
    "x3=np.array([1,1,-2,8])"
   ]
  },
  {
   "cell_type": "code",
   "execution_count": 13,
   "id": "540224d9",
   "metadata": {},
   "outputs": [],
   "source": [
    "def GSO3(x1,x2,x3):\n",
    "    import pandas as pd\n",
    "    import numpy as np\n",
    "    z1=x1\n",
    "    z2=x2-(np.inner(x2,z1)/np.inner(z1,z1)*z1)\n",
    "    z3=x3-(np.inner(x3,z1)/np.inner(z1,z1)*z1)-(np.inner(x3,z2)/np.inner(z2,z2)*z2)\n",
    "    \n",
    "    print(\"Orthogonal:\\n\",z1,z2,z3,\"\\nOrthonormal\\n:\",z1/np.linalg.norm(z1),z2/np.linalg.norm(z2),z3/np.linalg.norm(z3))\n",
    "    "
   ]
  },
  {
   "cell_type": "code",
   "execution_count": 14,
   "id": "19591ee0",
   "metadata": {},
   "outputs": [
    {
     "name": "stdout",
     "output_type": "stream",
     "text": [
      "Orthogonal:\n",
      " [ 3  1 -1  3] [ 1.  3.  3. -1.] [-3.  1.  1.  3.] \n",
      "Orthonormal\n",
      ": [ 0.67082039  0.2236068  -0.2236068   0.67082039] [ 0.2236068   0.67082039  0.67082039 -0.2236068 ] [-0.67082039  0.2236068   0.2236068   0.67082039]\n"
     ]
    }
   ],
   "source": [
    "GSO3 (x1,x2,x3)"
   ]
  },
  {
   "cell_type": "code",
   "execution_count": 36,
   "id": "348e56ec",
   "metadata": {},
   "outputs": [
    {
     "name": "stdout",
     "output_type": "stream",
     "text": [
      "[[1 1 0 0]\n",
      " [1 1 1 1]\n",
      " [1 0 0 1]\n",
      " [0 1 1 0]]\n"
     ]
    }
   ],
   "source": [
    "np.random.seed(1)\n",
    "x=np.random.randint(0,2,(4,4))\n",
    "print(x)"
   ]
  },
  {
   "cell_type": "code",
   "execution_count": 44,
   "id": "ad28b795",
   "metadata": {},
   "outputs": [],
   "source": [
    "x1=x[:,0]\n",
    "x2=x[:,1]\n",
    "x3=x[:,2]\n",
    "x4=x[:,3]"
   ]
  },
  {
   "cell_type": "code",
   "execution_count": 45,
   "id": "d154e765",
   "metadata": {},
   "outputs": [],
   "source": [
    "def GSO4(x1,x2,x3,x4):\n",
    "    import pandas as pd\n",
    "    import numpy as np\n",
    "    z1=x1\n",
    "    z2=x2-(np.inner(x2,z1)/np.inner(z1,z1)*z1)\n",
    "    z3=x3-(np.inner(x3,z1)/np.inner(z1,z1)*z1)-(np.inner(x3,z2)/np.inner(z2,z2)*z2)\n",
    "    z4=x4-(np.inner(x4,z1)/np.inner(z1,z1)*z1)-(np.inner(x4,z2)/np.inner(z2,z2)*z2)-(np.inner(x4,z3)/np.inner(z3,z3)*z3)\n",
    "    l=[np.round(z1),np.round(z2),np.round(z3),np.round(z4)]\n",
    "    l1=[z1/np.linalg.norm(z1),z2/np.linalg.norm(z2),z3/np.linalg.norm(z3),z4/np.linalg.norm(z4)]\n",
    "    l2=[]\n",
    "    for i in l1:\n",
    "        l2.append(np.round(i))\n",
    "    print(\"Orthogonal: \\n\",l,\"\\nOrthonormal: \\n\",l2)"
   ]
  },
  {
   "cell_type": "code",
   "execution_count": 46,
   "id": "f99e190c",
   "metadata": {},
   "outputs": [
    {
     "name": "stdout",
     "output_type": "stream",
     "text": [
      "Orthogonal: \n",
      " [array([1, 1, 1, 0]), array([ 0.,  0., -1.,  1.]), array([-1.,  0.,  0.,  0.]), array([ 0., -0., -0.,  0.])] \n",
      "Orthonormal: \n",
      " [array([1., 1., 1., 0.]), array([ 0.,  0., -1.,  1.]), array([-1.,  1.,  0.,  0.]), array([ 1., -0., -0.,  0.])]\n"
     ]
    }
   ],
   "source": [
    "GSO4(x1,x2,x3,x4)"
   ]
  },
  {
   "cell_type": "code",
   "execution_count": null,
   "id": "4951bafe",
   "metadata": {},
   "outputs": [],
   "source": []
  }
 ],
 "metadata": {
  "kernelspec": {
   "display_name": "Python 3 (ipykernel)",
   "language": "python",
   "name": "python3"
  },
  "language_info": {
   "codemirror_mode": {
    "name": "ipython",
    "version": 3
   },
   "file_extension": ".py",
   "mimetype": "text/x-python",
   "name": "python",
   "nbconvert_exporter": "python",
   "pygments_lexer": "ipython3",
   "version": "3.10.2"
  }
 },
 "nbformat": 4,
 "nbformat_minor": 5
}
